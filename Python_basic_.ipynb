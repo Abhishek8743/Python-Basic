{
  "nbformat": 4,
  "nbformat_minor": 0,
  "metadata": {
    "colab": {
      "provenance": [],
      "toc_visible": true
    },
    "kernelspec": {
      "name": "python3",
      "display_name": "Python 3"
    },
    "language_info": {
      "name": "python"
    }
  },
  "cells": [
    {
      "cell_type": "code",
      "execution_count": null,
      "metadata": {
        "id": "B2DVkZEZB9cY"
      },
      "outputs": [],
      "source": []
    },
    {
      "cell_type": "markdown",
      "source": [
        "# Python-Basic\n",
        " Python Basics Questions:-\n",
        "\n",
        "\n",
        "1. What is Python, and why is it popular ?\n",
        "       • Python is a high level, Interpetted programming language known for its readability and simplicity. It is popular because od its extensive libraries, ease of learing versatility, and community support. It's widely used in web development, data science, Al, machine leaming, and automation.\n",
        "2. What is an interpreter in Python ?\n",
        "       • An interpreter is a program that executes code ine-by-line Python uses an interpreter to coevert the source code anto machine code, which makes it easier to debug and test.\n",
        "3. What are pre-defined keywords in Python ?\n",
        "       • Pre-defined keywords are reserved words in python that have special meaning, such as if, else, for, while, def, and retum. They cannot be used as variable .\n",
        "4. Can keywords be used as variable names ?\n",
        "       •  No, Python keywords cannot be used as variable names because they are reserved for specific functions within the language.\n",
        "5. What is mutability in Python ?\n",
        "       • Mutability refers to the ability of an object to be changed after it is created. Mutable objects include lists and dictionaries, whereas immutabile objects include strings and tuples.\n",
        "6. Why are lists mutable, but tuples are immutable ?\n",
        "       • Lists are mutable to allow dynansic modifications such as adding removing, or changing elements. Tuples are Immutable for safety and performance reasons, especially. Tuples are immutable for safety and especially when used as keys in dictionaries.\n",
        "7. What is the difference between “==” and “is” operators in Python ?\n",
        "       • In Python, == and is operators are both used for comparison but they serve different purposes. The == operator checks for equality of values which means it evaluates whether the values of two objects are the same. On the other hand, is operator checks for identity, meaning it determines whether two variables point to the same object in memory.\n",
        "8. What are logical operators in Python ?\n",
        "       • Logical operators are used to combine multiple conditions (boolean expressions) and return True or False.\n",
        "9. What is type casting in Python ?\n",
        "       • Type-casting is the process of converting a variable from one dets type to another, such as from \"str\"to\"Int\".\n",
        "10. What is the difference between implicit and explicit type casting ?\n",
        "        • Implicit casting is done automatically by Python (eg, init to float) Explict casting is done manually by the programmer using functions like \"int()\", \"float()\",\"str()\".\n",
        "11. What is the purpose of conditional statements in Python ?\n",
        "        • Conditional statements allow the program to make decisions and execute certain parts of code based on given conditions using \"if\", \"else\",and\"else\".\n",
        "12. How does the elif statement work ?\n",
        "        • The 'elif (else if ) statement allows checking multiple expressions for \"True\" after an initial if check it executes the block of code for the first condition that evaluates to\"True\".\n",
        "13. What is the difference between for and while loops ?\n",
        "        •  loop: Repeats a block of code a fixed number of times or over items in a sequence.\n",
        "        • while loop: Repeats a block of code as long as a condition is true (condition-controlled).\n",
        "14. Describe a scenario where a while loop is more suitable than a for     loop ?\n",
        "        •  A while loop is more suitable when you need to repeat an action until a condition changes, but you don't know in advance how many times it will run.\n",
        "        • Example: Asking a user for input repeatedly until they enter the correct password."
      ],
      "metadata": {
        "id": "IJPESE8CB_nj"
      }
    },
    {
      "cell_type": "markdown",
      "source": [
        "#Practical Questions\n",
        "\n",
        "1. Write a Python program to print \"Hello, World!y\n"
      ],
      "metadata": {
        "id": "PXTp1VUUGqCo"
      }
    },
    {
      "cell_type": "code",
      "source": [
        "print(\"Hello\")"
      ],
      "metadata": {
        "colab": {
          "base_uri": "https://localhost:8080/"
        },
        "id": "zqJ9_hVCIXQP",
        "outputId": "0c5042a0-f6b8-47f3-b549-74acb5442880"
      },
      "execution_count": null,
      "outputs": [
        {
          "output_type": "stream",
          "name": "stdout",
          "text": [
            "Hello\n"
          ]
        }
      ]
    },
    {
      "cell_type": "markdown",
      "source": [
        "2. Write a Python program that displays your name and age."
      ],
      "metadata": {
        "id": "4e3DFn56JBuN"
      }
    },
    {
      "cell_type": "code",
      "source": [
        "name = \"Abhishek kumar\"\n",
        "age = 20\n",
        "print(\"Name:\", name)\n",
        "print(\"Age:\", age)"
      ],
      "metadata": {
        "colab": {
          "base_uri": "https://localhost:8080/"
        },
        "id": "OoZVc9zrJG50",
        "outputId": "715e1499-13ec-4b93-bdda-b589b2161076"
      },
      "execution_count": null,
      "outputs": [
        {
          "output_type": "stream",
          "name": "stdout",
          "text": [
            "Name: Abhishek kumar\n",
            "Age: 20\n"
          ]
        }
      ]
    },
    {
      "cell_type": "markdown",
      "source": [
        "3. Write code to print all the pre-defined keywords in Python using the keyword library."
      ],
      "metadata": {
        "id": "pdbkdPmSKheY"
      }
    },
    {
      "cell_type": "code",
      "source": [
        "#All the pre-defined keywords\n",
        "\n",
        "help(\"keywords\")"
      ],
      "metadata": {
        "colab": {
          "base_uri": "https://localhost:8080/"
        },
        "id": "iFj53nL-MHQ_",
        "outputId": "8dfbe74a-d806-423d-81b9-dd1115da7a33"
      },
      "execution_count": null,
      "outputs": [
        {
          "output_type": "stream",
          "name": "stdout",
          "text": [
            "\n",
            "Here is a list of the Python keywords.  Enter any keyword to get more help.\n",
            "\n",
            "False               class               from                or\n",
            "None                continue            global              pass\n",
            "True                def                 if                  raise\n",
            "and                 del                 import              return\n",
            "as                  elif                in                  try\n",
            "assert              else                is                  while\n",
            "async               except              lambda              with\n",
            "await               finally             nonlocal            yield\n",
            "break               for                 not                 \n",
            "\n"
          ]
        }
      ]
    },
    {
      "cell_type": "code",
      "source": [
        "\n",
        "print(\"Python Keysword\")\n",
        "#Get the list og all Python Keywords\n",
        "import keyword\n",
        "print(keyword.kwlist)"
      ],
      "metadata": {
        "colab": {
          "base_uri": "https://localhost:8080/"
        },
        "id": "GVjzKE-jPFWw",
        "outputId": "a51f768d-a871-4e85-ee0f-3c36de81d566"
      },
      "execution_count": null,
      "outputs": [
        {
          "output_type": "stream",
          "name": "stdout",
          "text": [
            "Python Keysword\n",
            "['False', 'None', 'True', 'and', 'as', 'assert', 'async', 'await', 'break', 'class', 'continue', 'def', 'del', 'elif', 'else', 'except', 'finally', 'for', 'from', 'global', 'if', 'import', 'in', 'is', 'lambda', 'nonlocal', 'not', 'or', 'pass', 'raise', 'return', 'try', 'while', 'with', 'yield']\n"
          ]
        }
      ]
    },
    {
      "cell_type": "markdown",
      "source": [
        "4. Write a program that checks if a given word is a Python keyword.\n",
        "\n"
      ],
      "metadata": {
        "id": "puTpUEVUMH7z"
      }
    },
    {
      "cell_type": "code",
      "source": [
        "import keyword\n",
        "\n",
        "word = input(\" Enter a word \")\n",
        "\n",
        "if keyword.iskeyword(word):\n",
        "  print(\"yes, its is a python keyword.\")\n",
        "else:\n",
        "    print(\"No , it is note a python keyword.\")"
      ],
      "metadata": {
        "colab": {
          "base_uri": "https://localhost:8080/"
        },
        "id": "rvafj_vOMNhp",
        "outputId": "59366a1d-e73a-4dcd-e576-c57154871c4c"
      },
      "execution_count": null,
      "outputs": [
        {
          "output_type": "stream",
          "name": "stdout",
          "text": [
            " Enter a word in\n",
            "yes, its is a python keyword.\n"
          ]
        }
      ]
    },
    {
      "cell_type": "markdown",
      "source": [
        "5.  Create a list and tuple in Python, and demonstrate how attempting to change an element works differently\n",
        "for each."
      ],
      "metadata": {
        "id": "rLvxZBILV3e4"
      }
    },
    {
      "cell_type": "code",
      "source": [
        "# Create List\n",
        "\n",
        "my_list = [1,2,3] # Changed from () to [] to create a list\n",
        "my_list[0] = 8\n",
        "print(\"List:\", my_list)\n"
      ],
      "metadata": {
        "colab": {
          "base_uri": "https://localhost:8080/"
        },
        "id": "9KYMzBNfV5Rp",
        "outputId": "e74963ac-c504-4c03-88bf-e80d29ac9ad9"
      },
      "execution_count": null,
      "outputs": [
        {
          "output_type": "stream",
          "name": "stdout",
          "text": [
            "List: [8, 2, 3]\n"
          ]
        }
      ]
    },
    {
      "cell_type": "code",
      "source": [
        "# Create  Tuple\n",
        "my_tuble = [1,2,3]\n",
        "print(\"Tuble:\",my_tuble)"
      ],
      "metadata": {
        "colab": {
          "base_uri": "https://localhost:8080/"
        },
        "id": "pREFHCnFVmks",
        "outputId": "95ee7182-2bc5-4a5f-9824-dfa29a732a31"
      },
      "execution_count": null,
      "outputs": [
        {
          "output_type": "stream",
          "name": "stdout",
          "text": [
            "Tuble: [1, 2, 3]\n"
          ]
        }
      ]
    },
    {
      "cell_type": "markdown",
      "source": [
        "6.  Write a function to demonstrate the behavior of mutable and immutable arguments."
      ],
      "metadata": {
        "id": "ihn1rU0-aR-V"
      }
    },
    {
      "cell_type": "code",
      "source": [
        " #Function to change a list (mutable)\n",
        "def change_list(my_list):\n",
        "    my_list.append(4)\n",
        "    print(\"Inside function:\", my_list)\n",
        "\n",
        "# Function to change a number (immutable)\n",
        "def change_number(my_num):\n",
        "    my_num = my_num + 5\n",
        "    print(\"Inside function:\", my_num)\n",
        "\n",
        "# Call the functions\n",
        "x = [1, 2, 3]\n",
        "change_list(x)\n",
        "print(\"Outside function:\", x)\n",
        "\n",
        "y = 10\n",
        "change_number(y)\n",
        "print(\"Outside function:\", y)"
      ],
      "metadata": {
        "colab": {
          "base_uri": "https://localhost:8080/"
        },
        "id": "ILCZWI5jaZ8Q",
        "outputId": "b0685249-7462-4c44-b3e8-84922d8887ba"
      },
      "execution_count": null,
      "outputs": [
        {
          "output_type": "stream",
          "name": "stdout",
          "text": [
            "Inside function: [1, 2, 3, 4]\n",
            "Outside function: [1, 2, 3, 4]\n",
            "Inside function: 15\n",
            "Outside function: 10\n"
          ]
        }
      ]
    },
    {
      "cell_type": "markdown",
      "source": [
        "7.  Write a program that performs basic arithmetic operations on two user-input numbers."
      ],
      "metadata": {
        "id": "yVt1C_kteKBf"
      }
    },
    {
      "cell_type": "code",
      "source": [
        "# Basic Arithmetic Operations\n",
        "\n",
        "a = 5\n",
        "b = 8\n",
        "print(\" Addition:\",a+b)\n",
        "print(\"Subtraction:\",a-b)\n",
        "print(\"Multiplacation:\",a*b)\n",
        "print(\"division:\",a/b)"
      ],
      "metadata": {
        "colab": {
          "base_uri": "https://localhost:8080/"
        },
        "id": "q69yrizQeNep",
        "outputId": "489df5f5-ba67-44d6-ea7d-5d16397db480"
      },
      "execution_count": null,
      "outputs": [
        {
          "output_type": "stream",
          "name": "stdout",
          "text": [
            " Addition: 13\n",
            "Subtraction: -3\n",
            "Multiplacation: 40\n",
            "division: 0.625\n"
          ]
        }
      ]
    },
    {
      "cell_type": "markdown",
      "source": [
        " 8.Write a program to demonstrate the use of logical operators ."
      ],
      "metadata": {
        "id": "RtkLhS6PjBve"
      }
    },
    {
      "cell_type": "code",
      "source": [
        "x = 5\n",
        "y = 10\n",
        "print( x > 0 and y > 15)\n",
        "print(x > 0 and y < 10)\n",
        "print(not(x == y))"
      ],
      "metadata": {
        "colab": {
          "base_uri": "https://localhost:8080/"
        },
        "id": "B6VoUcdTjLQQ",
        "outputId": "723e0f15-a8df-42fa-eab2-92577ac8ffdb"
      },
      "execution_count": null,
      "outputs": [
        {
          "output_type": "stream",
          "name": "stdout",
          "text": [
            "False\n",
            "False\n",
            "True\n"
          ]
        }
      ]
    },
    {
      "cell_type": "markdown",
      "source": [
        "9.  Write a Python program to convert user input from string to integer, float, and boolean types.\n",
        "\n"
      ],
      "metadata": {
        "id": "bHjMJUmKnFg1"
      }
    },
    {
      "cell_type": "code",
      "source": [
        "s = 13\n",
        "int_val = int(s)\n",
        "float_val = float(s)\n",
        "bool_val =bool(int_val)\n",
        "print(\"Intefer:\", int_val)\n",
        "print(\"float:\",float_val)\n",
        "print(\"Boolean:\", bool_val)"
      ],
      "metadata": {
        "colab": {
          "base_uri": "https://localhost:8080/"
        },
        "id": "tCKO7Md5nJjP",
        "outputId": "e87eecf8-98e6-4457-f6b2-00665988db5b"
      },
      "execution_count": null,
      "outputs": [
        {
          "output_type": "stream",
          "name": "stdout",
          "text": [
            "Intefer: 13\n",
            "float: 13.0\n",
            "Boolean: True\n"
          ]
        }
      ]
    },
    {
      "cell_type": "markdown",
      "source": [
        "10.  Write code to demonstrate type casting with list elements"
      ],
      "metadata": {
        "id": "BWfoGDq_oJ2p"
      }
    },
    {
      "cell_type": "code",
      "source": [
        "list = ['1','2','3',]\n",
        "new_list = [int(x) for x in list]\n",
        "print(new_list)"
      ],
      "metadata": {
        "colab": {
          "base_uri": "https://localhost:8080/"
        },
        "id": "FPlj9dYRoOtS",
        "outputId": "9e48daac-3bfc-4cd8-f5fe-530daedf1a1e"
      },
      "execution_count": null,
      "outputs": [
        {
          "output_type": "stream",
          "name": "stdout",
          "text": [
            "[1, 2, 3]\n"
          ]
        }
      ]
    },
    {
      "cell_type": "markdown",
      "source": [
        "11.  Write a program that checks if a number is positive, negative, or zero."
      ],
      "metadata": {
        "id": "Dej6Vb98puth"
      }
    },
    {
      "cell_type": "code",
      "source": [
        "num = int(input(\" Enter a number: \"))\n",
        "\n",
        "if num >0:\n",
        "  print(\"Positive\")\n",
        "elif num <0:\n",
        "  print(\"Nagative\")\n",
        "else:\n",
        "    print(\"Zero\")"
      ],
      "metadata": {
        "id": "iCK50ONjp0PA"
      },
      "execution_count": null,
      "outputs": []
    },
    {
      "cell_type": "markdown",
      "source": [
        "12. Write a for loop to print numbers from 1 to 10."
      ],
      "metadata": {
        "id": "P2T97z2Bxjf7"
      }
    },
    {
      "cell_type": "code",
      "source": [
        "for i in range(1, 11):\n",
        "  print(i)"
      ],
      "metadata": {
        "colab": {
          "base_uri": "https://localhost:8080/"
        },
        "id": "gL8Pf8gOyKz7",
        "outputId": "56fce6df-8b7e-4053-e57b-132d9acad52d"
      },
      "execution_count": 5,
      "outputs": [
        {
          "output_type": "stream",
          "name": "stdout",
          "text": [
            "1\n",
            "2\n",
            "3\n",
            "4\n",
            "5\n",
            "6\n",
            "7\n",
            "8\n",
            "9\n",
            "10\n"
          ]
        }
      ]
    },
    {
      "cell_type": "markdown",
      "source": [
        "13.  Write a Python program to find the sum of all even numbers between 1 and 50.\n",
        "\n"
      ],
      "metadata": {
        "id": "y3gFisvTynFe"
      }
    },
    {
      "cell_type": "code",
      "source": [
        "total = 0\n",
        "for i in range(2,52,2):\n",
        "  total +=1\n",
        "\n",
        "  print(\"Sum of even number form 1 to 50:\", total)\n",
        "\n"
      ],
      "metadata": {
        "colab": {
          "base_uri": "https://localhost:8080/"
        },
        "id": "R46cc3N7yolR",
        "outputId": "54975f74-2cd4-4e7c-c070-e742f5e5ecce"
      },
      "execution_count": 8,
      "outputs": [
        {
          "output_type": "stream",
          "name": "stdout",
          "text": [
            "Sum of even number form 1 to 50: 1\n",
            "Sum of even number form 1 to 50: 2\n",
            "Sum of even number form 1 to 50: 3\n",
            "Sum of even number form 1 to 50: 4\n",
            "Sum of even number form 1 to 50: 5\n",
            "Sum of even number form 1 to 50: 6\n",
            "Sum of even number form 1 to 50: 7\n",
            "Sum of even number form 1 to 50: 8\n",
            "Sum of even number form 1 to 50: 9\n",
            "Sum of even number form 1 to 50: 10\n",
            "Sum of even number form 1 to 50: 11\n",
            "Sum of even number form 1 to 50: 12\n",
            "Sum of even number form 1 to 50: 13\n",
            "Sum of even number form 1 to 50: 14\n",
            "Sum of even number form 1 to 50: 15\n",
            "Sum of even number form 1 to 50: 16\n",
            "Sum of even number form 1 to 50: 17\n",
            "Sum of even number form 1 to 50: 18\n",
            "Sum of even number form 1 to 50: 19\n",
            "Sum of even number form 1 to 50: 20\n",
            "Sum of even number form 1 to 50: 21\n",
            "Sum of even number form 1 to 50: 22\n",
            "Sum of even number form 1 to 50: 23\n",
            "Sum of even number form 1 to 50: 24\n",
            "Sum of even number form 1 to 50: 25\n"
          ]
        }
      ]
    },
    {
      "cell_type": "markdown",
      "source": [
        "14.  Write a program to reverse a string using a while loop."
      ],
      "metadata": {
        "id": "LjzuA7IY0AkW"
      }
    },
    {
      "cell_type": "code",
      "source": [
        "text = input(\"Enter a string: \")\n",
        "reversed_text = \"\"\n",
        "index = len(text) - 1\n",
        "\n",
        "while index >= 0:\n",
        "    reversed_text += text[index]\n",
        "    index -= 1\n",
        "\n",
        "print(\"Reversed string:\",reversed_text)"
      ],
      "metadata": {
        "colab": {
          "base_uri": "https://localhost:8080/"
        },
        "id": "RGjak_iW0Zc6",
        "outputId": "546a8346-5661-459d-9734-672108549021"
      },
      "execution_count": 12,
      "outputs": [
        {
          "output_type": "stream",
          "name": "stdout",
          "text": [
            "Enter a string: 3\n",
            "Reversed string: 3\n"
          ]
        }
      ]
    },
    {
      "cell_type": "markdown",
      "source": [
        "15.  Write a Python program to calculate the factorial of a number provided by the user using a while loop."
      ],
      "metadata": {
        "id": "gIqY_rIq0tL1"
      }
    },
    {
      "cell_type": "code",
      "source": [
        "num = int(input(\"Enter a number: \"))\n",
        "factorial = 1\n",
        "i = 1\n",
        "\n",
        "while i <= num:\n",
        "    factorial *= i\n",
        "    i += 1\n",
        "\n",
        "print(\"Factorial of\", num, \"is:\",factorial)"
      ],
      "metadata": {
        "colab": {
          "base_uri": "https://localhost:8080/"
        },
        "id": "uxEfeOXc0w0c",
        "outputId": "490d40b1-1612-46fc-af75-40dd8d3fd142"
      },
      "execution_count": 13,
      "outputs": [
        {
          "output_type": "stream",
          "name": "stdout",
          "text": [
            "Enter a number: 3\n",
            "Factorial of 3 is: 6\n"
          ]
        }
      ]
    }
  ]
}